{
 "cells": [
  {
   "cell_type": "code",
   "execution_count": 1,
   "id": "unexpected-subscription",
   "metadata": {},
   "outputs": [
    {
     "data": {
      "image/png": "[encoded data removed]",
      "text/plain": [
       "<Figure size 432x288 with 1 Axes>"
      ]
     },
     "metadata": {
      "needs_background": "light"
     },
     "output_type": "display_data"
    }
   ],
   "source": [
    "import matplotlib.pyplot as plt\n",
    "x=[1,2,3,4,5,6,7,8]\n",
    "y=[2,4,6,8,10,12,14,16]\n",
    "plt.plot(x,y)\n",
    "plt.show()"
   ]
  },
  {
   "cell_type": "code",
   "execution_count": 2,
   "id": "white-tobacco",
   "metadata": {},
   "outputs": [
    {
     "data": {
      "image/png": "[encoded data removed]",
      "text/plain": [
       "<Figure size 432x288 with 1 Axes>"
      ]
     },
     "metadata": {
      "needs_background": "light"
     },
     "output_type": "display_data"
    }
   ],
   "source": [
    "import matplotlib.pyplot as plt\n",
    "x=[3,4,5,6,7,8,9,10,11,12]\n",
    "y= [9,16,25,36,49,64,81,100,121,144]\n",
    "plt.bar(x,y)\n",
    "plt.show()"
   ]
  },
  {
   "cell_type": "code",
   "execution_count": 14,
   "id": "leading-composition",
   "metadata": {},
   "outputs": [
    {
     "name": "stdout",
     "output_type": "stream",
     "text": [
      "                                              player_url  \\\n",
      "0      https://sofifa.com/player/158023/lionel-messi/...   \n",
      "1      https://sofifa.com/player/20801/c-ronaldo-dos-...   \n",
      "2      https://sofifa.com/player/9014/arjen-robben/15...   \n",
      "3      https://sofifa.com/player/41236/zlatan-ibrahim...   \n",
      "4      https://sofifa.com/player/167495/manuel-neuer/...   \n",
      "...                                                  ...   \n",
      "16150  https://sofifa.com/player/220806/ellis-redman/...   \n",
      "16151  https://sofifa.com/player/225509/aaron-collins...   \n",
      "16152  https://sofifa.com/player/217591/piotr-zemlo/1...   \n",
      "16153  https://sofifa.com/player/222947/tom-davies/15...   \n",
      "16154  https://sofifa.com/player/201197/paul-tisdale/...   \n",
      "\n",
      "                                 long_name  age            club_name  overall  \\\n",
      "0           Lionel Andrés Messi Cuccittini   27         FC Barcelona       93   \n",
      "1      Cristiano Ronaldo dos Santos Aveiro   29          Real Madrid       92   \n",
      "2                             Arjen Robben   30    FC Bayern München       90   \n",
      "3                       Zlatan Ibrahimović   32  Paris Saint-Germain       90   \n",
      "4                             Manuel Neuer   28    FC Bayern München       90   \n",
      "...                                    ...  ...                  ...      ...   \n",
      "16150                         Ellis Redman   17       Newport County       41   \n",
      "16151                        Aaron Collins   17       Newport County       41   \n",
      "16152                          Piotr Żemło   18         Wisła Kraków       40   \n",
      "16153                           Tom Davies   22       Fleetwood Town       40   \n",
      "16154                         Paul Tisdale   41          Exeter City       40   \n",
      "\n",
      "       potential player_positions  \n",
      "0             95               CF  \n",
      "1             92           LW, LM  \n",
      "2             90       RM, LM, RW  \n",
      "3             90               ST  \n",
      "4             90               GK  \n",
      "...          ...              ...  \n",
      "16150         61               CB  \n",
      "16151         50               ST  \n",
      "16152         50           LM, LB  \n",
      "16153         49               CB  \n",
      "16154         40          CM, CAM  \n",
      "\n",
      "[16155 rows x 7 columns]\n"
     ]
    }
   ],
   "source": [
    "# players_15.csv imported\n",
    "\n",
    "import pandas as pd\n",
    "\n",
    "fifa_15_players = pd.read_csv ('players_15.csv', usecols= ['player_url', 'long_name', 'player_positions', 'overall', 'potential', 'age', 'club_name', 'league_name'])\n"
   ]
  },
  {
   "cell_type": "code",
   "execution_count": 73,
   "id": "weighted-devil",
   "metadata": {},
   "outputs": [],
   "source": [
    "# English Premier league csv fifa 15\n",
    "\n",
    "import pandas as pd\n",
    "\n",
    "fifa_15_players = pd.read_csv ('players_15.csv', usecols= ['player_url', 'long_name', 'player_positions', 'overall', 'potential', 'age', 'club_name', 'league_name'])\n",
    "english_premier_league_players = fifa_15_players.loc[fifa_15_players['league_name'] == 'English Premier League']"
   ]
  },
  {
   "cell_type": "code",
   "execution_count": 24,
   "id": "purple-travel",
   "metadata": {},
   "outputs": [
    {
     "name": "stdout",
     "output_type": "stream",
     "text": [
      "                                              player_url  \\\n",
      "1028   https://sofifa.com/player/183540/barry-bannan/...   \n",
      "1042   https://sofifa.com/player/49212/julian-speroni...   \n",
      "1061   https://sofifa.com/player/134906/marouane-cham...   \n",
      "1137   https://sofifa.com/player/181483/mile-jedinak/...   \n",
      "1238   https://sofifa.com/player/186392/joel-ward/150002   \n",
      "1283   https://sofifa.com/player/184037/martin-kelly/...   \n",
      "1375   https://sofifa.com/player/46815/brede-hangelan...   \n",
      "1620   https://sofifa.com/player/189157/yannick-bolas...   \n",
      "1713   https://sofifa.com/player/157665/scott-dann/15...   \n",
      "1733   https://sofifa.com/player/13690/andrew-johnson...   \n",
      "1807   https://sofifa.com/player/152514/jason-puncheo...   \n",
      "1925   https://sofifa.com/player/198717/wilfried-zaha...   \n",
      "2070   https://sofifa.com/player/170084/wayne-henness...   \n",
      "2142   https://sofifa.com/player/165190/joe-ledley/15...   \n",
      "2145   https://sofifa.com/player/169586/fraizer-campb...   \n",
      "2253   https://sofifa.com/player/159577/damien-delane...   \n",
      "2486   https://sofifa.com/player/171972/james-mcarthu...   \n",
      "2534   https://sofifa.com/player/205670/dwight-gayle/...   \n",
      "2843   https://sofifa.com/player/198776/jonathan-will...   \n",
      "3123   https://sofifa.com/player/172953/adrian-mariap...   \n",
      "3224   https://sofifa.com/player/149667/kevin-doyle/1...   \n",
      "3785   https://sofifa.com/player/156170/jerome-thomas...   \n",
      "5245   https://sofifa.com/player/138353/patrick-mccar...   \n",
      "5435   https://sofifa.com/player/183385/adlene-guedio...   \n",
      "5837   https://sofifa.com/player/189492/stuart-okeefe...   \n",
      "6204   https://sofifa.com/player/164979/peter-ramage/...   \n",
      "6240   https://sofifa.com/player/174808/jimmy-kebe/15...   \n",
      "6419   https://sofifa.com/player/206489/ezekiel-fryer...   \n",
      "8010   https://sofifa.com/player/53756/lewis-price/15...   \n",
      "10306  https://sofifa.com/player/198775/kyle-de-silva...   \n",
      "11219  https://sofifa.com/player/202761/chris-ketting...   \n",
      "13137  https://sofifa.com/player/212782/hiram-boateng...   \n",
      "13146  https://sofifa.com/player/204499/ryan-inniss/1...   \n",
      "\n",
      "                  long_name  age       club_name             league_name  \\\n",
      "1028           Barry Bannan   24  Crystal Palace  English Premier League   \n",
      "1042         Julián Speroni   35  Crystal Palace  English Premier League   \n",
      "1061       Marouane Chamakh   30  Crystal Palace  English Premier League   \n",
      "1137           Mile Jedinák   29  Crystal Palace  English Premier League   \n",
      "1238              Joel Ward   24  Crystal Palace  English Premier League   \n",
      "1283           Martin Kelly   24  Crystal Palace  English Premier League   \n",
      "1375        Brede Hangeland   33  Crystal Palace  English Premier League   \n",
      "1620   Yannick Bolasie Yala   25  Crystal Palace  English Premier League   \n",
      "1713             Scott Dann   27  Crystal Palace  English Premier League   \n",
      "1733         Andrew Johnson   33  Crystal Palace  English Premier League   \n",
      "1807         Jason Puncheon   28  Crystal Palace  English Premier League   \n",
      "1925          Wilfried Zaha   21  Crystal Palace  English Premier League   \n",
      "2070        Wayne Hennessey   27  Crystal Palace  English Premier League   \n",
      "2142             Joe Ledley   27  Crystal Palace  English Premier League   \n",
      "2145       Fraizer Campbell   26  Crystal Palace  English Premier League   \n",
      "2253         Damien Delaney   32  Crystal Palace  English Premier League   \n",
      "2486         James McArthur   26  Crystal Palace  English Premier League   \n",
      "2534           Dwight Gayle   23  Crystal Palace  English Premier League   \n",
      "2843      Jonathan Williams   20  Crystal Palace  English Premier League   \n",
      "3123        Adrian Mariappa   27  Crystal Palace  English Premier League   \n",
      "3224            Kevin Doyle   30  Crystal Palace  English Premier League   \n",
      "3785          Jerome Thomas   31  Crystal Palace  English Premier League   \n",
      "5245       Patrick McCarthy   31  Crystal Palace  English Premier League   \n",
      "5435       Adlène Guédioura   28  Crystal Palace  English Premier League   \n",
      "5837         Stuart O'Keefe   23  Crystal Palace  English Premier League   \n",
      "6204           Peter Ramage   30  Crystal Palace  English Premier League   \n",
      "6240             Jimmy Kébé   30  Crystal Palace  English Premier League   \n",
      "6419         Ezekiel Fryers   21  Crystal Palace  English Premier League   \n",
      "8010            Lewis Price   29  Crystal Palace  English Premier League   \n",
      "10306         Kyle De Silva   20  Crystal Palace  English Premier League   \n",
      "11219        Chris Kettings   21  Crystal Palace  English Premier League   \n",
      "13137         Hiram Boateng   18  Crystal Palace  English Premier League   \n",
      "13146           Ryan Inniss   19  Crystal Palace  English Premier League   \n",
      "\n",
      "       overall  potential player_positions  \n",
      "1028        75         76  RM, CAM, LM, CM  \n",
      "1042        75         75               GK  \n",
      "1061        75         75      CAM, ST, CF  \n",
      "1137        75         75          CDM, CM  \n",
      "1238        74         78      LB, RB, CDM  \n",
      "1283        74         77               RB  \n",
      "1375        74         74               CB  \n",
      "1620        73         77           LM, RM  \n",
      "1713        73         74               CB  \n",
      "1733        73         73               ST  \n",
      "1807        73         73           RM, LM  \n",
      "1925        72         81           LM, RM  \n",
      "2070        72         75               GK  \n",
      "2142        72         73     CM, CAM, CDM  \n",
      "2145        72         73               ST  \n",
      "2253        72         72               CB  \n",
      "2486        71         75          CM, CDM  \n",
      "2534        71         75               ST  \n",
      "2843        70         79          CAM, LW  \n",
      "3123        70         71           RB, CB  \n",
      "3224        70         70               ST  \n",
      "3785        69         69               LM  \n",
      "5245        67         67               CB  \n",
      "5435        67         67          CM, CDM  \n",
      "5837        66         70          CM, CDM  \n",
      "6204        66         66               CB  \n",
      "6240        66         66               RM  \n",
      "6419        65         75           CB, LB  \n",
      "8010        64         64               GK  \n",
      "10306       61         69      CAM, RW, LW  \n",
      "11219       60         67               GK  \n",
      "13137       57         76          CDM, CM  \n",
      "13146       57         74               CB  \n"
     ]
    }
   ],
   "source": [
    "# Crystal palace team csv fifa 15\n",
    "\n",
    "import pandas as pd\n",
    "\n",
    "fifa_15_players = pd.read_csv ('players_15.csv',\n",
    "usecols= ['player_url', 'long_name', 'player_positions', 'overall', 'potential', 'age', 'club_name', 'league_name'])\n",
    "english_premier_league_players = fifa_15_players.loc[fifa_15_players['league_name'] == 'English Premier League']\n",
    "crystal_palace_team = english_premier_league_players.loc[english_premier_league_players['club_name'] == 'Crystal Palace']"
   ]
  },
  {
   "cell_type": "code",
   "execution_count": 80,
   "id": "headed-mauritius",
   "metadata": {
    "scrolled": true
   },
   "outputs": [
    {
     "name": "stdout",
     "output_type": "stream",
     "text": [
      "[75, 72, 64, 60]\n"
     ]
    }
   ],
   "source": [
    "# player list by position\n",
    "import matplotlib.pyplot as plt\n",
    "import pandas as pd\n",
    "\n",
    "fifa_15_players = pd.read_csv('players_15.csv', usecols= ['player_url', 'long_name', 'player_positions', 'overall', 'potential', 'age', 'club_name', 'league_name'])\n",
    "\n",
    "english_premier_league_players = fifa_15_players.loc[fifa_15_players['league_name'] == 'English Premier League']\n",
    "\n",
    "crystal_palace_team = english_premier_league_players.loc[english_premier_league_players['club_name'] == 'Crystal Palace']\n",
    "\n",
    "# Return a list of all unique roles\n",
    "def getUniqueRolesByTeam(team):\n",
    "    positions_team = team['player_positions']\n",
    "    positions_list = []\n",
    "\n",
    "    for position in positions_team:\n",
    "        position = list(position.split(','))[0]\n",
    "        positions_list.append(position)\n",
    "    return list(dict.fromkeys(positions_list))\n",
    "\n",
    "\n",
    "def getRolesOverralRateByTeam(team):\n",
    "    GK = []\n",
    "    CB = []\n",
    "    RB = []\n",
    "    LB = []\n",
    "    CDM = []\n",
    "    CM = []\n",
    "    RM = []\n",
    "    LM = []\n",
    "    CAM = []\n",
    "    ST = []\n",
    "    positions_team = team['player_positions']\n",
    "    overall_team = team['overall']\n",
    "    for position_index, position in enumerate(positions_team):\n",
    "        position = list(position.split(','))[0]\n",
    "        for unique_role in getUniqueRolesByTeam(team):\n",
    "            if position == unique_role and position == 'GK':\n",
    "                for overall_index, overall in enumerate(overall_team):\n",
    "                    if overall_index == position_index:\n",
    "                        GK.append(overall)\n",
    "                \n",
    "    print(GK)\n",
    "                    \n",
    "        \n",
    "\n",
    "getRolesOverralRateByTeam(crystal_palace_team)\n",
    "\n",
    "\n",
    "# x=formatted_positions_list\n",
    "# overall rate by main role\n",
    "# y= [9,16,25,36,49,64,81,100,121,144]\n",
    "# plt.bar(x,y)\n"
   ]
  },
  {
   "cell_type": "code",
   "execution_count": null,
   "id": "small-consultation",
   "metadata": {},
   "outputs": [],
   "source": []
  },
  {
   "cell_type": "code",
   "execution_count": null,
   "id": "standard-tribute",
   "metadata": {},
   "outputs": [],
   "source": []
  },
  {
   "cell_type": "code",
   "execution_count": null,
   "id": "aware-editor",
   "metadata": {},
   "outputs": [],
   "source": []
  }
 ],
 "metadata": {
  "kernelspec": {
   "display_name": "Python 3",
   "language": "python",
   "name": "python3"
  },
  "language_info": {
   "codemirror_mode": {
    "name": "ipython",
    "version": 3
   },
   "file_extension": ".py",
   "mimetype": "text/x-python",
   "name": "python",
   "nbconvert_exporter": "python",
   "pygments_lexer": "ipython3",
   "version": "3.9.5"
  }
 },
 "nbformat": 4,
 "nbformat_minor": 5
}
